{
 "cells": [
  {
   "cell_type": "code",
   "execution_count": 1,
   "id": "175d9a45",
   "metadata": {},
   "outputs": [],
   "source": [
    "from xbot2_interface import pyxbot2_interface as xbi"
   ]
  },
  {
   "cell_type": "code",
   "execution_count": 2,
   "id": "7a4b3317",
   "metadata": {},
   "outputs": [],
   "source": [
    "import nb_location\n",
    "dir = nb_location.get_nb_location()\n",
    "urdf = open(f'{dir}/../test/resources/centauro_capsule.urdf', 'r').read()"
   ]
  },
  {
   "cell_type": "code",
   "execution_count": 3,
   "id": "f27702d1",
   "metadata": {},
   "outputs": [],
   "source": [
    "model = xbi.ModelInterface(urdf)"
   ]
  },
  {
   "cell_type": "code",
   "execution_count": null,
   "id": "008758fb",
   "metadata": {},
   "outputs": [],
   "source": [
    "model.getMass()"
   ]
  },
  {
   "cell_type": "code",
   "execution_count": null,
   "id": "e19a8d5e",
   "metadata": {},
   "outputs": [],
   "source": [
    "for jn in model.getJointNames():\n",
    "    print(jn, model.getJointInfo(jn))"
   ]
  },
  {
   "cell_type": "code",
   "execution_count": null,
   "id": "e35f05ab",
   "metadata": {},
   "outputs": [],
   "source": [
    "model.getNq()"
   ]
  },
  {
   "cell_type": "code",
   "execution_count": null,
   "id": "9686c1b2",
   "metadata": {},
   "outputs": [],
   "source": [
    "model.getNv()"
   ]
  },
  {
   "cell_type": "code",
   "execution_count": null,
   "id": "b0287d29",
   "metadata": {},
   "outputs": [],
   "source": [
    "model.getJointNum()"
   ]
  },
  {
   "cell_type": "code",
   "execution_count": null,
   "id": "c86f14f2",
   "metadata": {},
   "outputs": [],
   "source": [
    "model.getJointPosition()"
   ]
  },
  {
   "cell_type": "code",
   "execution_count": null,
   "id": "9d84cd6f",
   "metadata": {},
   "outputs": [],
   "source": [
    "import numpy as np\n",
    "np.set_printoptions(2, suppress=True)"
   ]
  },
  {
   "cell_type": "code",
   "execution_count": null,
   "id": "ff338289",
   "metadata": {},
   "outputs": [],
   "source": [
    "model.getRelativeJacobian('arm1_7', 'base_link')"
   ]
  },
  {
   "cell_type": "code",
   "execution_count": null,
   "id": "0fcde869",
   "metadata": {},
   "outputs": [],
   "source": [
    "from cartesian_interface.pyci_all import Affine3"
   ]
  },
  {
   "cell_type": "code",
   "execution_count": null,
   "id": "0385a624",
   "metadata": {},
   "outputs": [],
   "source": [
    "model.getPose('arm1_7')"
   ]
  },
  {
   "cell_type": "code",
   "execution_count": 33,
   "id": "16cbe751",
   "metadata": {},
   "outputs": [
    {
     "name": "stdout",
     "output_type": "stream",
     "text": [
      "[-3.04126725e+08  3.92761792e+08 -8.84494802e+08  9.05358802e-01\n",
      " -8.59567347e-02  4.05603442e-01  9.17754136e-02  1.46037133e+00\n",
      "  1.11091456e-01 -5.06106536e-01  2.26871676e+00  1.57521481e-01\n",
      "  9.27931451e-01 -3.72750886e-01  7.48714282e-01  3.33029080e-01\n",
      " -4.38564411e-01 -2.25983957e+00  1.26725087e+00  9.41379192e-01\n",
      " -3.37350288e-01  4.30432352e-01 -1.88975736e+00  1.47358710e+00\n",
      " -5.64815436e-01  3.41545229e-01 -9.40003649e-01 -3.41164390e-01\n",
      " -1.87424703e+00  1.13188311e+00  1.39024883e+00 -2.16966003e+00\n",
      "  1.77494731e-01  4.78124734e-01 -8.78291944e-01 -3.68544747e-01\n",
      " -3.20997140e+00  1.43123927e+00  3.30258322e-01  1.39204007e-01\n",
      "  1.91085848e+00 -7.54594350e-01  1.11870895e+00 -1.36737817e+00\n",
      " -1.20724110e+00  1.05982972e+00  1.03631579e-01 -2.08384501e+00\n",
      " -2.27910809e-01  7.29117900e-02 -4.73707044e-03 -1.34367442e-01]\n",
      "[-4.44445708e+08 -9.02554624e+08 -8.45792329e+08  2.68920420e+00\n",
      " -2.55318898e-01  1.20477150e+00  1.46037133e+00  1.11091456e-01\n",
      " -5.06106536e-01  2.26871676e+00  1.57521481e-01 -3.81971798e-01\n",
      "  7.48714282e-01  3.33029080e-01 -4.38564411e-01 -2.25983957e+00\n",
      "  1.26725087e+00 -3.44100760e-01  4.30432352e-01 -1.88975736e+00\n",
      "  1.47358710e+00 -5.64815436e-01  3.41545229e-01 -2.79343733e+00\n",
      " -1.87424703e+00  1.13188311e+00  1.39024883e+00 -2.16966003e+00\n",
      "  1.77494731e-01 -1.07227799e+00 -3.68544747e-01 -3.20997140e+00\n",
      "  1.43123927e+00  3.30258322e-01  1.39204007e-01  1.91085848e+00\n",
      " -7.54594350e-01  1.11870895e+00 -1.36737817e+00 -1.20724110e+00\n",
      "  1.05982972e+00  1.03631579e-01 -2.08384501e+00 -2.27910809e-01\n",
      "  7.29117900e-02 -4.73707044e-03 -1.34367442e-01]\n",
      "True\n"
     ]
    }
   ],
   "source": [
    "rq = model.generateRandomQ()\n",
    "dq = model.difference(rq, model.getNeutralQ())\n",
    "print(rq)\n",
    "print(dq)\n",
    "print(model.checkJointLimits(rq))"
   ]
  },
  {
   "cell_type": "code",
   "execution_count": null,
   "id": "f75b862e",
   "metadata": {},
   "outputs": [],
   "source": [
    "model.getJointLimits()"
   ]
  },
  {
   "cell_type": "code",
   "execution_count": null,
   "id": "a7b55474",
   "metadata": {},
   "outputs": [],
   "source": []
  }
 ],
 "metadata": {
  "kernelspec": {
   "display_name": "Python 3 (ipykernel)",
   "language": "python",
   "name": "python3"
  },
  "language_info": {
   "codemirror_mode": {
    "name": "ipython",
    "version": 3
   },
   "file_extension": ".py",
   "mimetype": "text/x-python",
   "name": "python",
   "nbconvert_exporter": "python",
   "pygments_lexer": "ipython3",
   "version": "3.9.18"
  }
 },
 "nbformat": 4,
 "nbformat_minor": 5
}
