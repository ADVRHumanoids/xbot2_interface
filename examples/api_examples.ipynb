{
 "cells": [
  {
   "cell_type": "code",
   "execution_count": 1,
   "id": "175d9a45",
   "metadata": {},
   "outputs": [],
   "source": [
    "from cartesian_interface.pyci_all import Affine3\n",
    "from xbot2_interface import pyxbot2_interface as xbi"
   ]
  },
  {
   "cell_type": "code",
   "execution_count": 2,
   "id": "7a4b3317",
   "metadata": {},
   "outputs": [],
   "source": [
    "import nb_location\n",
    "dir = nb_location.get_nb_location()\n",
    "urdf = open(f'{dir}/../test/resources/centauro_capsule.urdf', 'r').read()"
   ]
  },
  {
   "cell_type": "code",
   "execution_count": 3,
   "id": "f27702d1",
   "metadata": {},
   "outputs": [],
   "source": [
    "model = xbi.ModelInterface2(urdf)"
   ]
  },
  {
   "cell_type": "code",
   "execution_count": 4,
   "id": "008758fb",
   "metadata": {},
   "outputs": [
    {
     "data": {
      "text/plain": [
       "113.65976536000004"
      ]
     },
     "execution_count": 4,
     "metadata": {},
     "output_type": "execute_result"
    }
   ],
   "source": [
    "model.getMass()"
   ]
  },
  {
   "cell_type": "code",
   "execution_count": 5,
   "id": "e19a8d5e",
   "metadata": {},
   "outputs": [
    {
     "name": "stdout",
     "output_type": "stream",
     "text": [
      "reference id = 0 iq = 0 iv = 0 nq = 7 nv = 6\n",
      "hip_yaw_1 id = 1 iq = 7 iv = 6 nq = 1 nv = 1\n",
      "hip_pitch_1 id = 2 iq = 8 iv = 7 nq = 1 nv = 1\n",
      "knee_pitch_1 id = 3 iq = 9 iv = 8 nq = 1 nv = 1\n",
      "ankle_pitch_1 id = 4 iq = 10 iv = 9 nq = 1 nv = 1\n",
      "ankle_yaw_1 id = 5 iq = 11 iv = 10 nq = 1 nv = 1\n",
      "j_wheel_1 id = 6 iq = 12 iv = 11 nq = 2 nv = 1\n",
      "hip_yaw_2 id = 7 iq = 14 iv = 12 nq = 1 nv = 1\n",
      "hip_pitch_2 id = 8 iq = 15 iv = 13 nq = 1 nv = 1\n",
      "knee_pitch_2 id = 9 iq = 16 iv = 14 nq = 1 nv = 1\n",
      "ankle_pitch_2 id = 10 iq = 17 iv = 15 nq = 1 nv = 1\n",
      "ankle_yaw_2 id = 11 iq = 18 iv = 16 nq = 1 nv = 1\n",
      "j_wheel_2 id = 12 iq = 19 iv = 17 nq = 2 nv = 1\n",
      "hip_yaw_3 id = 13 iq = 21 iv = 18 nq = 1 nv = 1\n",
      "hip_pitch_3 id = 14 iq = 22 iv = 19 nq = 1 nv = 1\n",
      "knee_pitch_3 id = 15 iq = 23 iv = 20 nq = 1 nv = 1\n",
      "ankle_pitch_3 id = 16 iq = 24 iv = 21 nq = 1 nv = 1\n",
      "ankle_yaw_3 id = 17 iq = 25 iv = 22 nq = 1 nv = 1\n",
      "j_wheel_3 id = 18 iq = 26 iv = 23 nq = 2 nv = 1\n",
      "hip_yaw_4 id = 19 iq = 28 iv = 24 nq = 1 nv = 1\n",
      "hip_pitch_4 id = 20 iq = 29 iv = 25 nq = 1 nv = 1\n",
      "knee_pitch_4 id = 21 iq = 30 iv = 26 nq = 1 nv = 1\n",
      "ankle_pitch_4 id = 22 iq = 31 iv = 27 nq = 1 nv = 1\n",
      "ankle_yaw_4 id = 23 iq = 32 iv = 28 nq = 1 nv = 1\n",
      "j_wheel_4 id = 24 iq = 33 iv = 29 nq = 2 nv = 1\n",
      "torso_yaw id = 25 iq = 35 iv = 30 nq = 1 nv = 1\n",
      "j_arm1_1 id = 26 iq = 36 iv = 31 nq = 1 nv = 1\n",
      "j_arm1_2 id = 27 iq = 37 iv = 32 nq = 1 nv = 1\n",
      "j_arm1_3 id = 28 iq = 38 iv = 33 nq = 1 nv = 1\n",
      "j_arm1_4 id = 29 iq = 39 iv = 34 nq = 1 nv = 1\n",
      "j_arm1_5 id = 30 iq = 40 iv = 35 nq = 1 nv = 1\n",
      "j_arm1_6 id = 31 iq = 41 iv = 36 nq = 1 nv = 1\n",
      "j_arm1_7 id = 32 iq = 42 iv = 37 nq = 1 nv = 1\n",
      "j_arm2_1 id = 33 iq = 43 iv = 38 nq = 1 nv = 1\n",
      "j_arm2_2 id = 34 iq = 44 iv = 39 nq = 1 nv = 1\n",
      "j_arm2_3 id = 35 iq = 45 iv = 40 nq = 1 nv = 1\n",
      "j_arm2_4 id = 36 iq = 46 iv = 41 nq = 1 nv = 1\n",
      "j_arm2_5 id = 37 iq = 47 iv = 42 nq = 1 nv = 1\n",
      "j_arm2_6 id = 38 iq = 48 iv = 43 nq = 1 nv = 1\n",
      "j_arm2_7 id = 39 iq = 49 iv = 44 nq = 1 nv = 1\n",
      "d435_head_joint id = 40 iq = 50 iv = 45 nq = 1 nv = 1\n",
      "velodyne_joint id = 41 iq = 51 iv = 46 nq = 1 nv = 1\n"
     ]
    }
   ],
   "source": [
    "for jn in model.getJointNames():\n",
    "    print(jn, model.getJointInfo(jn))"
   ]
  },
  {
   "cell_type": "code",
   "execution_count": 6,
   "id": "e35f05ab",
   "metadata": {},
   "outputs": [
    {
     "data": {
      "text/plain": [
       "52"
      ]
     },
     "execution_count": 6,
     "metadata": {},
     "output_type": "execute_result"
    }
   ],
   "source": [
    "model.getNq()"
   ]
  },
  {
   "cell_type": "code",
   "execution_count": 7,
   "id": "9686c1b2",
   "metadata": {},
   "outputs": [
    {
     "data": {
      "text/plain": [
       "47"
      ]
     },
     "execution_count": 7,
     "metadata": {},
     "output_type": "execute_result"
    }
   ],
   "source": [
    "model.getNv()"
   ]
  },
  {
   "cell_type": "code",
   "execution_count": 8,
   "id": "b0287d29",
   "metadata": {},
   "outputs": [
    {
     "data": {
      "text/plain": [
       "42"
      ]
     },
     "execution_count": 8,
     "metadata": {},
     "output_type": "execute_result"
    }
   ],
   "source": [
    "model.getJointNum()"
   ]
  },
  {
   "cell_type": "code",
   "execution_count": null,
   "id": "c86f14f2",
   "metadata": {},
   "outputs": [],
   "source": [
    "model.getJointPosition()"
   ]
  },
  {
   "cell_type": "code",
   "execution_count": null,
   "id": "9d84cd6f",
   "metadata": {},
   "outputs": [],
   "source": [
    "import numpy as np\n",
    "np.set_printoptions(2, suppress=True)"
   ]
  },
  {
   "cell_type": "code",
   "execution_count": null,
   "id": "ff338289",
   "metadata": {},
   "outputs": [],
   "source": [
    "model.getRelativeJacobian('arm1_7', 'base_link')"
   ]
  },
  {
   "cell_type": "code",
   "execution_count": null,
   "id": "0fcde869",
   "metadata": {},
   "outputs": [],
   "source": [
    "from cartesian_interface.pyci_all import Affine3"
   ]
  },
  {
   "cell_type": "code",
   "execution_count": 16,
   "id": "0385a624",
   "metadata": {},
   "outputs": [
    {
     "data": {
      "text/plain": [
       "translation: [0, 0, 0]\n",
       "rotation   : [0, 0, 0, 1]"
      ]
     },
     "execution_count": 16,
     "metadata": {},
     "output_type": "execute_result"
    }
   ],
   "source": [
    "model.getPose('arm1_7')\n",
    "model.getPose('world')"
   ]
  },
  {
   "cell_type": "markdown",
   "id": "6d4c0e14-faa4-46ae-b4cd-aec5ff5b4f64",
   "metadata": {},
   "source": [
    "rq = model.generateRandomQ()\n",
    "dq = model.difference(rq, model.getNeutralQ())\n",
    "print(rq)\n",
    "print(dq)\n",
    "print(model.checkJointLimits(rq))"
   ]
  },
  {
   "cell_type": "code",
   "execution_count": 4,
   "id": "f75b862e",
   "metadata": {},
   "outputs": [],
   "source": [
    "qmin, qmax = model.getJointLimits()"
   ]
  },
  {
   "cell_type": "code",
   "execution_count": 14,
   "id": "a7b55474",
   "metadata": {},
   "outputs": [
    {
     "data": {
      "text/plain": [
       "1.5707963267948966"
      ]
     },
     "execution_count": 14,
     "metadata": {},
     "output_type": "execute_result"
    }
   ],
   "source": [
    "q0 = model.getNeutralQ()\n",
    "q = model.getNeutralQ().copy()\n",
    "iq, iv = model.getJointInfo('j_wheel_1').iqv()\n",
    "q[iq:iq+2] = [0, 1]\n",
    "(model.difference(q0, q) + qmax)[iv]"
   ]
  },
  {
   "cell_type": "code",
   "execution_count": null,
   "id": "99862c6a-d747-47d1-8e56-f513b3d78082",
   "metadata": {},
   "outputs": [],
   "source": [
    " # dq < (q0 + dqmax) - q = (q0  - q) + dqmax"
   ]
  }
 ],
 "metadata": {
  "kernelspec": {
   "display_name": "Python 3 (ipykernel)",
   "language": "python",
   "name": "python3"
  },
  "language_info": {
   "codemirror_mode": {
    "name": "ipython",
    "version": 3
   },
   "file_extension": ".py",
   "mimetype": "text/x-python",
   "name": "python",
   "nbconvert_exporter": "python",
   "pygments_lexer": "ipython3",
   "version": "3.9.18"
  }
 },
 "nbformat": 4,
 "nbformat_minor": 5
}
