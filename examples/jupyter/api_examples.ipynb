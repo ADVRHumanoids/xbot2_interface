{
 "cells": [
  {
   "cell_type": "code",
   "execution_count": null,
   "id": "175d9a45",
   "metadata": {},
   "outputs": [],
   "source": [
    "from xbot2_interface import pyxbot2_interface as xbi"
   ]
  },
  {
   "cell_type": "code",
   "execution_count": null,
   "id": "7a4b3317",
   "metadata": {},
   "outputs": [],
   "source": [
    "import nb_location\n",
    "dir = nb_location.get_nb_location()\n",
    "urdf = open(f'{dir}/../../test/resources/centauro_capsule.urdf', 'r').read()"
   ]
  },
  {
   "cell_type": "code",
   "execution_count": null,
   "id": "f27702d1",
   "metadata": {},
   "outputs": [],
   "source": [
    "model = xbi.ModelInterface2(urdf)"
   ]
  },
  {
   "cell_type": "code",
   "execution_count": null,
   "id": "008758fb",
   "metadata": {},
   "outputs": [],
   "source": [
    "model.getMass()"
   ]
  },
  {
   "cell_type": "code",
   "execution_count": null,
   "id": "e19a8d5e",
   "metadata": {},
   "outputs": [],
   "source": [
    "for jn in model.getJointNames():\n",
    "    print(jn, model.getJointInfo(jn))"
   ]
  },
  {
   "cell_type": "code",
   "execution_count": null,
   "id": "e35f05ab",
   "metadata": {},
   "outputs": [],
   "source": [
    "model.getNq()"
   ]
  },
  {
   "cell_type": "code",
   "execution_count": null,
   "id": "9686c1b2",
   "metadata": {},
   "outputs": [],
   "source": [
    "model.getNv()"
   ]
  },
  {
   "cell_type": "code",
   "execution_count": null,
   "id": "b0287d29",
   "metadata": {},
   "outputs": [],
   "source": [
    "model.getJointNum()"
   ]
  },
  {
   "cell_type": "code",
   "execution_count": null,
   "id": "c86f14f2",
   "metadata": {},
   "outputs": [],
   "source": [
    "model.getJointPosition()"
   ]
  },
  {
   "cell_type": "code",
   "execution_count": null,
   "id": "9d84cd6f",
   "metadata": {},
   "outputs": [],
   "source": [
    "import numpy as np\n",
    "np.set_printoptions(2, suppress=True)"
   ]
  },
  {
   "cell_type": "code",
   "execution_count": null,
   "id": "ff338289",
   "metadata": {},
   "outputs": [],
   "source": [
    "model.getRelativeJacobian('arm1_7', 'base_link')"
   ]
  },
  {
   "cell_type": "code",
   "execution_count": null,
   "id": "0385a624",
   "metadata": {},
   "outputs": [],
   "source": [
    "model.getPose('arm1_7')"
   ]
  },
  {
   "cell_type": "code",
   "execution_count": null,
   "id": "7dca4bea",
   "metadata": {},
   "outputs": [],
   "source": [
    "rq = model.generateRandomQ()\n",
    "print(model.checkJointLimits(rq))"
   ]
  },
  {
   "cell_type": "code",
   "execution_count": null,
   "id": "f75b862e",
   "metadata": {},
   "outputs": [],
   "source": [
    "qmin, qmax = model.getJointLimits()"
   ]
  },
  {
   "cell_type": "code",
   "execution_count": null,
   "id": "a7b55474",
   "metadata": {},
   "outputs": [],
   "source": [
    "q0 = model.getNeutralQ()\n",
    "q = model.getNeutralQ().copy()\n",
    "iq, iv = model.getJointInfo('j_wheel_1').iqv()\n",
    "q[iq:iq+2] = [0, 1]\n",
    "(model.difference(q0, q))[iv]"
   ]
  }
 ],
 "metadata": {
  "kernelspec": {
   "display_name": "Python 3 (ipykernel)",
   "language": "python",
   "name": "python3"
  },
  "language_info": {
   "codemirror_mode": {
    "name": "ipython",
    "version": 3
   },
   "file_extension": ".py",
   "mimetype": "text/x-python",
   "name": "python",
   "nbconvert_exporter": "python",
   "pygments_lexer": "ipython3",
   "version": "3.8.10"
  }
 },
 "nbformat": 4,
 "nbformat_minor": 5
}
